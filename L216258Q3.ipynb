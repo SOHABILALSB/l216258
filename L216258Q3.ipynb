{
 "cells": [
  {
   "cell_type": "code",
   "execution_count": 1,
   "id": "b707be66",
   "metadata": {},
   "outputs": [],
   "source": [
    "import pandas as pd\n",
    "import numpy as np\n",
    "%matplotlib inline\n",
    "from matplotlib import pyplot as plt"
   ]
  },
  {
   "cell_type": "code",
   "execution_count": 2,
   "id": "c7742d2c",
   "metadata": {},
   "outputs": [],
   "source": [
    "DATASHEET = pd.read_csv('StudentMarkSheet.csv')"
   ]
  },
  {
   "cell_type": "code",
   "execution_count": 3,
   "id": "2a61c6f9",
   "metadata": {},
   "outputs": [
    {
     "data": {
      "text/plain": [
       "47.89473684210526"
      ]
     },
     "execution_count": 3,
     "metadata": {},
     "output_type": "execute_result"
    }
   ],
   "source": [
    "BIO_MARKS=DATASHEET.loc[(DATASHEET['Exam name']=='Biology')] #bio rows\n",
    "BIO_MARKS\n",
    "BIO_AVG=BIO_MARKS['Marks'].mean()  #bio avg\n",
    "BIO_AVG"
   ]
  },
  {
   "cell_type": "code",
   "execution_count": 4,
   "id": "6b4c7e41",
   "metadata": {},
   "outputs": [
    {
     "data": {
      "text/plain": [
       "50.57692307692308"
      ]
     },
     "execution_count": 4,
     "metadata": {},
     "output_type": "execute_result"
    }
   ],
   "source": [
    "CHEM_MARKS=DATASHEET.loc[(DATASHEET['Exam name']=='Chemistry')] #chem rows\n",
    "CHEM_MARKS\n",
    "CHEM_AVG=CHEM_MARKS['Marks'].mean() #chem avg\n",
    "CHEM_AVG"
   ]
  },
  {
   "cell_type": "code",
   "execution_count": 5,
   "id": "46223905",
   "metadata": {},
   "outputs": [
    {
     "data": {
      "text/plain": [
       "48.97222222222222"
      ]
     },
     "execution_count": 5,
     "metadata": {},
     "output_type": "execute_result"
    }
   ],
   "source": [
    "MATH_MARKS=DATASHEET.loc[(DATASHEET['Exam name']=='Mathematics')] #math rows\n",
    "MATH_MARKS\n",
    "MATH_AVG=MATH_MARKS['Marks'].mean() #math avg\n",
    "MATH_AVG"
   ]
  },
  {
   "cell_type": "code",
   "execution_count": 6,
   "id": "b15bbb40",
   "metadata": {},
   "outputs": [
    {
     "data": {
      "text/plain": [
       "56.026315789473685"
      ]
     },
     "execution_count": 6,
     "metadata": {},
     "output_type": "execute_result"
    }
   ],
   "source": [
    "SOCIO_MARKS=DATASHEET.loc[(DATASHEET['Exam name']=='Sociology')] #socio rows\n",
    "SOCIO_MARKS\n",
    "SOCIO_AVG=SOCIO_MARKS['Marks'].mean() #socio avg\n",
    "SOCIO_AVG"
   ]
  },
  {
   "cell_type": "code",
   "execution_count": 7,
   "id": "3f73a402",
   "metadata": {},
   "outputs": [
    {
     "data": {
      "text/plain": [
       "51.76190476190476"
      ]
     },
     "execution_count": 7,
     "metadata": {},
     "output_type": "execute_result"
    }
   ],
   "source": [
    "PHY_MARKS=DATASHEET.loc[(DATASHEET['Exam name']=='Physics')] #phy rows\n",
    "PHY_MARKS\n",
    "PHY_AVG=PHY_MARKS['Marks'].mean() #phy avg\n",
    "PHY_AVG"
   ]
  },
  {
   "cell_type": "code",
   "execution_count": 8,
   "id": "5c8ee5ac",
   "metadata": {},
   "outputs": [],
   "source": [
    "avg=np.array([SOCIO_AVG,MATH_AVG, BIO_AVG,CHEM_AVG,PHY_AVG])  #avg array for all subs\n",
    "subjects=[\"sociology\",\"maths\",\"Biology\",\"chemistry\",\"physics\"]  #for xaxis def"
   ]
  },
  {
   "cell_type": "code",
   "execution_count": 9,
   "id": "2ea74594",
   "metadata": {},
   "outputs": [
    {
     "data": {
      "image/png": "[encoded data removed]",
      "text/plain": [
       "<Figure size 640x480 with 1 Axes>"
      ]
     },
     "metadata": {},
     "output_type": "display_data"
    }
   ],
   "source": [
    "plt.bar(range(0,5),avg)\n",
    "plt.xticks(range(0,5),subjects)\n",
    "plt.ylabel(\"Marks\")\n",
    "plt.xlabel(\"Subjects\")\n",
    "plt.show()"
   ]
  },
  {
   "cell_type": "code",
   "execution_count": null,
   "id": "32b6010e",
   "metadata": {},
   "outputs": [],
   "source": []
  }
 ],
 "metadata": {
  "kernelspec": {
   "display_name": "Python 3 (ipykernel)",
   "language": "python",
   "name": "python3"
  },
  "language_info": {
   "codemirror_mode": {
    "name": "ipython",
    "version": 3
   },
   "file_extension": ".py",
   "mimetype": "text/x-python",
   "name": "python",
   "nbconvert_exporter": "python",
   "pygments_lexer": "ipython3",
   "version": "3.10.7"
  }
 },
 "nbformat": 4,
 "nbformat_minor": 5
}
